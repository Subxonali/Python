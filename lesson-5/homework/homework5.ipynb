{
 "cells": [
  {
   "cell_type": "markdown",
   "id": "a59a45b3",
   "metadata": {},
   "source": [
    "# 1. def is_leap(year): \"\"\" Determines whether a given year is a leap year.\n",
    "## A year is a leap year if:\n",
    "- It is divisible by 4, and\n",
    "- It is NOT divisible by 100, unless it is also divisible by 400.\n",
    "\n",
    "Parameters:\n",
    "year (int): The year to be checked.\n",
    "\n",
    "Returns:\n",
    "bool: True if the year is a leap year, False otherwise.\n",
    "\"\"\"\n",
    "if not isinstance(year, int):\n",
    "    raise ValueError(\"Year must be an integer.\")\n",
    "\n",
    "return (year % 4 == 0 and year % 100 != 0) or (year % 400 == 0)"
   ]
  },
  {
   "cell_type": "code",
   "execution_count": 10,
   "id": "bc738caf",
   "metadata": {},
   "outputs": [
    {
     "name": "stdout",
     "output_type": "stream",
     "text": [
      "Kabisa yili: False\n"
     ]
    }
   ],
   "source": [
    "year = int(input(\"Yilni kiriting: \"))\n",
    "\n",
    "if not isinstance(year, int):\n",
    "    raise ValueError(\"Yil butun son bo'lishi kerak.\")\n",
    "\n",
    "is_leap = (year % 4 == 0 and year % 100 != 0) or (year % 400 == 0)\n",
    "\n",
    "print(\"Kabisa yili:\", is_leap)\n"
   ]
  },
  {
   "cell_type": "markdown",
   "id": "bc976dbf",
   "metadata": {},
   "source": [
    "2. Conditional Statements Exercise\n",
    "Given an integer, n, perform the following conditional actions:\n",
    "\n",
    "If n is odd, print Weird\n",
    "If n is even and in the inclusive range of 2 to 5, print Not Weird\n",
    "If n is even and in the inclusive range of 6 to 20, print Weird\n",
    "If n is even and greater than 20, print Not Weird\n"
   ]
  },
  {
   "cell_type": "code",
   "execution_count": 12,
   "id": "731e0642",
   "metadata": {},
   "outputs": [
    {
     "name": "stdout",
     "output_type": "stream",
     "text": [
      "5\n",
      "Weird\n"
     ]
    }
   ],
   "source": [
    "n=int(input('Biror musbat butun son kiriting'))\n",
    "print(n)\n",
    "\n",
    "if n%2==0:\n",
    "    if 2<=n<=5:\n",
    "        print('Not Weird')\n",
    "    elif 6<=n<=20:\n",
    "        print('Weird')\n",
    "    else:\n",
    "        print('Not Weird')\n",
    "else:\n",
    "    print('Weird')\n",
    "\n"
   ]
  },
  {
   "cell_type": "markdown",
   "id": "bdd12221",
   "metadata": {},
   "source": [
    "3.Given two integer numbers a and b. Find even numbers between this numbers. a and b are inclusive. Don't use loop.\n",
    "Give two solutions.\n",
    "\n",
    "Solution 1 with if-else statement.\n",
    "\n",
    "Solution 2 without if-else statement."
   ]
  },
  {
   "cell_type": "code",
   "execution_count": null,
   "id": "ba1c922c",
   "metadata": {},
   "outputs": [],
   "source": [
    "a = 3\n",
    "b = 10\n",
    "\n",
    "# Boshlanish va tugash nuqtasini to'g'rilaymiz\n",
    "start = a if a % 2 == 0 else a + 1  # a juft bo'lmasa, keyingi juftni olamiz\n",
    "end = b if b % 2 == 0 else b - 1    # b juft bo'lmasa, oldingi juftni olamiz\n",
    "\n",
    "# range bilan list yaratamiz (loopsiz, faqat step=2 orqali)\n",
    "even_numbers = list(range(start, end + 1, 2))\n",
    "print(even_numbers)  # Natija: [4, 6, 8, 10]\n"
   ]
  },
  {
   "cell_type": "code",
   "execution_count": null,
   "id": "9a89d5e8",
   "metadata": {},
   "outputs": [],
   "source": [
    "a = 3\n",
    "b = 10\n",
    "\n",
    "# max(a, b) va min(a, b) bilan tartiblaymiz\n",
    "even_numbers = list(range(a + (a % 2), b + 1, 2)) if a % 2 == 0 else list(range(a + 1, b + 1, 2))\n",
    "print(even_numbers)  # Natija: [4, 6, 8, 10]\n"
   ]
  }
 ],
 "metadata": {
  "kernelspec": {
   "display_name": "Python 3",
   "language": "python",
   "name": "python3"
  },
  "language_info": {
   "codemirror_mode": {
    "name": "ipython",
    "version": 3
   },
   "file_extension": ".py",
   "mimetype": "text/x-python",
   "name": "python",
   "nbconvert_exporter": "python",
   "pygments_lexer": "ipython3",
   "version": "3.13.3"
  }
 },
 "nbformat": 4,
 "nbformat_minor": 5
}
