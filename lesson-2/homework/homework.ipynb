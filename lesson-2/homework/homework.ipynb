{
 "cells": [
  {
   "cell_type": "markdown",
   "id": "ef8594b0",
   "metadata": {},
   "source": [
    "1. Age Calculator"
   ]
  },
  {
   "cell_type": "code",
   "execution_count": 1,
   "id": "5dd984d7",
   "metadata": {},
   "outputs": [
    {
     "name": "stdout",
     "output_type": "stream",
     "text": [
      "Salom, Subxonali! Siz 27 yoshdasiz.\n"
     ]
    }
   ],
   "source": [
    "# Foydalanuvchidan ma'lumotlarni so'raymiz\n",
    "name = input(\"Ismingizni kiriting: \")\n",
    "birth_year = int(input(\"Tug‘ilgan yilingizni kiriting: \"))\n",
    "\n",
    "# Hozirgi yil\n",
    "current_year = 2025\n",
    "\n",
    "# Yoshni hisoblaymiz\n",
    "age = current_year - birth_year\n",
    "\n",
    "# Natijani chiqaramiz\n",
    "print(f\"Salom, {name.title()}! Siz {age} yoshdasiz.\")\n"
   ]
  },
  {
   "cell_type": "markdown",
   "id": "68f0b920",
   "metadata": {},
   "source": [
    "2.Extract Car Names"
   ]
  },
  {
   "cell_type": "code",
   "execution_count": 2,
   "id": "b482a8ef",
   "metadata": {},
   "outputs": [
    {
     "name": "stdout",
     "output_type": "stream",
     "text": [
      "Malibu\n"
     ]
    }
   ],
   "source": [
    "txt = 'LMaasleitbtui'\n",
    "\n",
    "print(txt[1:12:2]) "
   ]
  },
  {
   "cell_type": "markdown",
   "id": "3a1c4d60",
   "metadata": {},
   "source": [
    "3.Extract Car Names"
   ]
  },
  {
   "cell_type": "code",
   "execution_count": 3,
   "id": "99c2b757",
   "metadata": {},
   "outputs": [
    {
     "name": "stdout",
     "output_type": "stream",
     "text": [
      "Matiz\n"
     ]
    }
   ],
   "source": [
    "txt = 'MsaatmiazD'\n",
    "print(txt[0:9:2])"
   ]
  },
  {
   "cell_type": "markdown",
   "id": "c483d003",
   "metadata": {},
   "source": [
    "4.Extract Residence Area"
   ]
  },
  {
   "cell_type": "code",
   "execution_count": 5,
   "id": "5365f932",
   "metadata": {},
   "outputs": [
    {
     "name": "stdout",
     "output_type": "stream",
     "text": [
      "London\n"
     ]
    }
   ],
   "source": [
    "txt = \"I'am John. I am from London\"\n",
    "print(txt[-6:])"
   ]
  },
  {
   "cell_type": "markdown",
   "id": "1362f778",
   "metadata": {},
   "source": [
    "5.Reverse String"
   ]
  },
  {
   "cell_type": "code",
   "execution_count": 8,
   "id": "e5d25a20",
   "metadata": {},
   "outputs": [
    {
     "name": "stdout",
     "output_type": "stream",
     "text": [
      "ilA\n"
     ]
    }
   ],
   "source": [
    "Ism=input('Ism kiriting: ')\n",
    "print(Ism[::-1])\n"
   ]
  },
  {
   "cell_type": "markdown",
   "id": "44d11878",
   "metadata": {},
   "source": [
    "6.Count Vowels"
   ]
  },
  {
   "cell_type": "code",
   "execution_count": 1,
   "id": "b4268a59",
   "metadata": {},
   "outputs": [
    {
     "name": "stdout",
     "output_type": "stream",
     "text": [
      "Unli harflar soni: 2\n"
     ]
    }
   ],
   "source": [
    "# Foydalanuvchidan matn so‘raymiz\n",
    "matn = input(\"Matn kiriting: \")\n",
    "\n",
    "# Unli harflar ro‘yxati\n",
    "vowels = \"aeiouAEIOU\"\n",
    "\n",
    "# Sanagich\n",
    "sanoq = 0\n",
    "\n",
    "# Har bir belgini tekshiramiz\n",
    "for harf in matn:\n",
    "    if harf in vowels:\n",
    "        sanoq += 1\n",
    "\n",
    "# Natijani chiqaramiz\n",
    "print(\"Unli harflar soni:\", sanoq)\n"
   ]
  },
  {
   "cell_type": "markdown",
   "id": "a228bddc",
   "metadata": {},
   "source": []
  },
  {
   "cell_type": "markdown",
   "id": "a99fde60",
   "metadata": {},
   "source": [
    " Check Palindrome"
   ]
  },
  {
   "cell_type": "code",
   "execution_count": null,
   "id": "ba5efc18",
   "metadata": {},
   "outputs": [],
   "source": [
    "# Foydalanuvchidan so'z kiritishni so'raymiz\n",
    "word = input(\"So'z kiriting: \")\n",
    "\n",
    "# So'zni teskari o'qilgan ko'rinishini olish\n",
    "reversed_word = word[::-1]\n",
    "\n",
    "# Tekshirish va natijani chiqarish\n",
    "if word == reversed_word:\n",
    "    print(f\"'{word}' palindrom so'z.\")\n",
    "else:\n",
    "    print(f\"'{word}' palindrom emas.\")\n"
   ]
  },
  {
   "cell_type": "markdown",
   "id": "81bfbf7d",
   "metadata": {},
   "source": [
    "Extract Email Domain"
   ]
  },
  {
   "cell_type": "code",
   "execution_count": null,
   "id": "43af225a",
   "metadata": {},
   "outputs": [],
   "source": [
    "# Foydalanuvchidan email manzilini so'raymiz\n",
    "email = input(\"Email manzilingizni kiriting: \")\n",
    "\n",
    "# Emailni '@' belgisi bo'yicha ajratamiz va domenni olamiz\n",
    "domain = email.split('@')[-1]\n",
    "\n",
    "# Natijani chiqaramiz\n",
    "print(\"Email domeni:\", domain)\n"
   ]
  }
 ],
 "metadata": {
  "kernelspec": {
   "display_name": "Python 3",
   "language": "python",
   "name": "python3"
  },
  "language_info": {
   "codemirror_mode": {
    "name": "ipython",
    "version": 3
   },
   "file_extension": ".py",
   "mimetype": "text/x-python",
   "name": "python",
   "nbconvert_exporter": "python",
   "pygments_lexer": "ipython3",
   "version": "3.13.3"
  }
 },
 "nbformat": 4,
 "nbformat_minor": 5
}
