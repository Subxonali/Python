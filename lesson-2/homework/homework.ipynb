{
 "cells": [
  {
   "cell_type": "markdown",
   "id": "ef8594b0",
   "metadata": {},
   "source": [
    "1. Age Calculator"
   ]
  },
  {
   "cell_type": "code",
   "execution_count": 1,
   "id": "5dd984d7",
   "metadata": {},
   "outputs": [
    {
     "name": "stdout",
     "output_type": "stream",
     "text": [
      "Salom, Subxonali! Siz 27 yoshdasiz.\n"
     ]
    }
   ],
   "source": [
    "# Foydalanuvchidan ma'lumotlarni so'raymiz\n",
    "name = input(\"Ismingizni kiriting: \")\n",
    "birth_year = int(input(\"Tug‘ilgan yilingizni kiriting: \"))\n",
    "\n",
    "# Hozirgi yil\n",
    "current_year = 2025\n",
    "\n",
    "# Yoshni hisoblaymiz\n",
    "age = current_year - birth_year\n",
    "\n",
    "# Natijani chiqaramiz\n",
    "print(f\"Salom, {name.title()}! Siz {age} yoshdasiz.\")\n"
   ]
  },
  {
   "cell_type": "markdown",
   "id": "68f0b920",
   "metadata": {},
   "source": [
    "2.Extract Car Names"
   ]
  },
  {
   "cell_type": "code",
   "execution_count": 2,
   "id": "b482a8ef",
   "metadata": {},
   "outputs": [
    {
     "name": "stdout",
     "output_type": "stream",
     "text": [
      "Malibu\n"
     ]
    }
   ],
   "source": [
    "txt = 'LMaasleitbtui'\n",
    "\n",
    "print(txt[1:12:2]) "
   ]
  },
  {
   "cell_type": "markdown",
   "id": "3a1c4d60",
   "metadata": {},
   "source": [
    "3.Extract Car Names"
   ]
  },
  {
   "cell_type": "code",
   "execution_count": 3,
   "id": "99c2b757",
   "metadata": {},
   "outputs": [
    {
     "name": "stdout",
     "output_type": "stream",
     "text": [
      "Matiz\n"
     ]
    }
   ],
   "source": [
    "txt = 'MsaatmiazD'\n",
    "print(txt[0:9:2])"
   ]
  },
  {
   "cell_type": "markdown",
   "id": "c483d003",
   "metadata": {},
   "source": [
    "4.Extract Residence Area"
   ]
  },
  {
   "cell_type": "code",
   "execution_count": 5,
   "id": "5365f932",
   "metadata": {},
   "outputs": [
    {
     "name": "stdout",
     "output_type": "stream",
     "text": [
      "London\n"
     ]
    }
   ],
   "source": [
    "txt = \"I'am John. I am from London\"\n",
    "print(txt[-6:])"
   ]
  },
  {
   "cell_type": "markdown",
   "id": "1362f778",
   "metadata": {},
   "source": [
    "5.Reverse String"
   ]
  },
  {
   "cell_type": "code",
   "execution_count": 8,
   "id": "e5d25a20",
   "metadata": {},
   "outputs": [
    {
     "name": "stdout",
     "output_type": "stream",
     "text": [
      "ilA\n"
     ]
    }
   ],
   "source": [
    "Ism=input('Ism kiriting: ')\n",
    "print(Ism[::-1])\n"
   ]
  },
  {
   "cell_type": "markdown",
   "id": "44d11878",
   "metadata": {},
   "source": [
    "6.Count Vowels"
   ]
  },
  {
   "cell_type": "code",
   "execution_count": 9,
   "id": "b4268a59",
   "metadata": {},
   "outputs": [
    {
     "name": "stdout",
     "output_type": "stream",
     "text": [
      "12\n"
     ]
    }
   ],
   "source": [
    "String='Salom Pyhton'\n",
    "String_length=len(String)\n",
    "print(String_length)"
   ]
  },
  {
   "cell_type": "markdown",
   "id": "a228bddc",
   "metadata": {},
   "source": []
  }
 ],
 "metadata": {
  "kernelspec": {
   "display_name": "Python 3",
   "language": "python",
   "name": "python3"
  },
  "language_info": {
   "codemirror_mode": {
    "name": "ipython",
    "version": 3
   },
   "file_extension": ".py",
   "mimetype": "text/x-python",
   "name": "python",
   "nbconvert_exporter": "python",
   "pygments_lexer": "ipython3",
   "version": "3.13.3"
  }
 },
 "nbformat": 4,
 "nbformat_minor": 5
}
