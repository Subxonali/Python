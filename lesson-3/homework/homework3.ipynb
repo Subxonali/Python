{
 "cells": [
  {
   "cell_type": "markdown",
   "id": "4207bff8",
   "metadata": {},
   "source": [
    "1.Create and Access List Elements"
   ]
  },
  {
   "cell_type": "code",
   "execution_count": 10,
   "id": "c690f89a",
   "metadata": {},
   "outputs": [
    {
     "data": {
      "text/plain": [
       "'Orange '"
      ]
     },
     "execution_count": 10,
     "metadata": {},
     "output_type": "execute_result"
    }
   ],
   "source": [
    "#Create a list containing five different fruits and print the third fruit.\n",
    "\n",
    "my_list=['apple','Banana ','Orange ','Grapes ','Watermelon ']\n",
    "my_list[2]"
   ]
  },
  {
   "cell_type": "markdown",
   "id": "0822a47d",
   "metadata": {},
   "source": [
    "Concatenate Two Lists"
   ]
  },
  {
   "cell_type": "code",
   "execution_count": 12,
   "id": "7c12efb0",
   "metadata": {},
   "outputs": [
    {
     "data": {
      "text/plain": [
       "[1, 2, 3, 4, 5, 6, 7, 8, 9]"
      ]
     },
     "execution_count": 12,
     "metadata": {},
     "output_type": "execute_result"
    }
   ],
   "source": [
    "#Create two lists of numbers and concatenate them into a single list.\n",
    "\n",
    "my_list1=[1,2,3,4]\n",
    "other_list=[5,6,7,8,9]\n",
    "my_list1.extend(other_list)\n",
    "my_list1"
   ]
  },
  {
   "cell_type": "markdown",
   "id": "6edde047",
   "metadata": {},
   "source": [
    "3.Extract Elements from a List"
   ]
  },
  {
   "cell_type": "code",
   "execution_count": 16,
   "id": "f0d5f54f",
   "metadata": {},
   "outputs": [
    {
     "name": "stdout",
     "output_type": "stream",
     "text": [
      "[1, 7, 11]\n"
     ]
    }
   ],
   "source": [
    "Numbers=[1,3,5,7,9,11]\n",
    "first=Numbers[0]\n",
    "Second=Numbers[int(len(Numbers)/2)]\n",
    "Last=Numbers[-1]\n",
    "\n",
    "Ajratilgan=[first,Second,Last]\n",
    "print(Ajratilgan)"
   ]
  },
  {
   "cell_type": "markdown",
   "id": "da6d1446",
   "metadata": {},
   "source": [
    "4.Convert List to Tuple"
   ]
  },
  {
   "cell_type": "code",
   "execution_count": 1,
   "id": "44947ed0",
   "metadata": {},
   "outputs": [
    {
     "data": {
      "text/plain": [
       "('Inception',\n",
       " 'The Shawshank Redemption',\n",
       " 'Forrest Gump',\n",
       " 'The Dark Knight',\n",
       " 'Interstellar')"
      ]
     },
     "execution_count": 1,
     "metadata": {},
     "output_type": "execute_result"
    }
   ],
   "source": [
    "my_list3=['Inception','The Shawshank Redemption','Forrest Gump','The Dark Knight','Interstellar']\n",
    "my_tuple=tuple(my_list3)\n",
    "my_tuple"
   ]
  },
  {
   "cell_type": "markdown",
   "id": "31c63aef",
   "metadata": {},
   "source": [
    "5.Check Element in a List"
   ]
  },
  {
   "cell_type": "code",
   "execution_count": 7,
   "id": "9f8134b3",
   "metadata": {},
   "outputs": [
    {
     "name": "stdout",
     "output_type": "stream",
     "text": [
      "Paris in the list\n"
     ]
    }
   ],
   "source": [
    "cities=['London','Tashkent','Samarqand','Buxoro','Namangan','Paris']\n",
    "if 'Paris' in cities:\n",
    "    print('Paris in the list')\n",
    "else:\n",
    "    print('Paris is not in the list')\n",
    "\n",
    "\n",
    " "
   ]
  },
  {
   "cell_type": "markdown",
   "id": "39cb935c",
   "metadata": {},
   "source": [
    "6.Duplicate a List Without Using Loops"
   ]
  },
  {
   "cell_type": "code",
   "execution_count": null,
   "id": "cca992b4",
   "metadata": {},
   "outputs": [
    {
     "name": "stdout",
     "output_type": "stream",
     "text": [
      "[1, 2, 3, 4, 5, 6, 7]\n",
      "[1, 2, 3, 4, 5, 6, 7]\n"
     ]
    }
   ],
   "source": [
    "#First \n",
    "Number=[1,2,3,4,5,6,7]\n",
    "duplicate=list(Number)\n",
    "print(duplicate)\n",
    "#Second\n",
    "duplicate=Number.copy()\n",
    "print(duplicate)"
   ]
  },
  {
   "cell_type": "markdown",
   "id": "8b31ac8f",
   "metadata": {},
   "source": [
    " 7.Swap First and Last Elements of a List"
   ]
  },
  {
   "cell_type": "code",
   "execution_count": 18,
   "id": "d02ed941",
   "metadata": {},
   "outputs": [
    {
     "name": "stdout",
     "output_type": "stream",
     "text": [
      "[5, 2, 3, 4, 1]\n"
     ]
    }
   ],
   "source": [
    "numbers = [1, 2, 3, 4, 5]\n",
    "\n",
    "first = numbers.pop(0)       # 0-chi (birinchi) elementni olib tashlaymiz va saqlaymiz\n",
    "last = numbers.pop(-1)       # oxirgi elementni olib tashlaymiz va saqlaymiz\n",
    "\n",
    "numbers.insert(0, last)      # oxirgi elementni boshiga qo‘shamiz\n",
    "numbers.append(first)        # birinchi elementni oxiriga qo‘shamiz\n",
    "\n",
    "print(numbers)  # [5, 2, 3, 4, 1]\n",
    "\n"
   ]
  },
  {
   "cell_type": "markdown",
   "id": "34b41b2b",
   "metadata": {},
   "source": [
    "8.Slice a Tuple\n"
   ]
  },
  {
   "cell_type": "code",
   "execution_count": 19,
   "id": "73bab0bc",
   "metadata": {},
   "outputs": [
    {
     "name": "stdout",
     "output_type": "stream",
     "text": [
      "[4, 5, 6, 7]\n"
     ]
    }
   ],
   "source": [
    "#Create a tuple of numbers from 1 to 10 and print a slice from index 3 to 7.\n",
    "\n",
    "my_tuple=[1,2,3,4,5,6,7,8,9,10]\n",
    "print(my_tuple[3:7])"
   ]
  },
  {
   "cell_type": "markdown",
   "id": "5cccb594",
   "metadata": {},
   "source": [
    "9.Count Occurrences in a List"
   ]
  },
  {
   "cell_type": "code",
   "execution_count": null,
   "id": "1478ca43",
   "metadata": {},
   "outputs": [
    {
     "name": "stdout",
     "output_type": "stream",
     "text": [
      "2\n"
     ]
    }
   ],
   "source": [
    "#Create a list of colors and count how many times \"blue\" appears in the list.\n",
    "colour=['blue','green','red','black','blue']\n",
    "count=colour.count('blue')\n",
    "print(count)\n"
   ]
  },
  {
   "cell_type": "markdown",
   "id": "6574b862",
   "metadata": {},
   "source": [
    "10. Find the Index of an Element in a Tuple"
   ]
  },
  {
   "cell_type": "code",
   "execution_count": 21,
   "id": "ae4e7a7d",
   "metadata": {},
   "outputs": [
    {
     "name": "stdout",
     "output_type": "stream",
     "text": [
      "2\n"
     ]
    }
   ],
   "source": [
    "#Given a tuple of animals, find the index of \"lion\".\n",
    "\n",
    "animals = ('cat', 'dog', 'lion', 'tiger')\n",
    "\n",
    "lion_index_number = animals.index('lion')\n",
    "print(lion_index_number)\n"
   ]
  },
  {
   "cell_type": "markdown",
   "id": "e53b5546",
   "metadata": {},
   "source": [
    "11.Merge Two Tuples\n"
   ]
  },
  {
   "cell_type": "code",
   "execution_count": 24,
   "id": "903e1bb7",
   "metadata": {},
   "outputs": [
    {
     "name": "stdout",
     "output_type": "stream",
     "text": [
      "[1, 2, 3, 4, 5, 6, 7, 8, 9]\n"
     ]
    }
   ],
   "source": [
    "#Merge Two Tuples\n",
    "tuple1=[1,2,3,4]\n",
    "tuple2=[5,6,7,8,9]\n",
    "merged=tuple1+tuple2\n",
    "print(merged)"
   ]
  },
  {
   "cell_type": "markdown",
   "id": "419857fe",
   "metadata": {},
   "source": [
    "12.Find the Length of a List and Tuple"
   ]
  },
  {
   "cell_type": "code",
   "execution_count": 25,
   "id": "c0e51e04",
   "metadata": {},
   "outputs": [
    {
     "name": "stdout",
     "output_type": "stream",
     "text": [
      "5\n",
      "4\n"
     ]
    }
   ],
   "source": [
    "my_list = [10, 20, 30, 40, 50]\n",
    "my_tuple = ('a', 'b', 'c', 'd')\n",
    "\n",
    "\n",
    "list_length = len(my_list)\n",
    "tuple_length = len(my_tuple)\n",
    "\n",
    "\n",
    "print(list_length)\n",
    "print(tuple_length)\n"
   ]
  },
  {
   "cell_type": "markdown",
   "id": "6ff5ccb3",
   "metadata": {},
   "source": [
    "13.Convert Tuple to List"
   ]
  },
  {
   "cell_type": "code",
   "execution_count": 26,
   "id": "b32d9575",
   "metadata": {},
   "outputs": [
    {
     "name": "stdout",
     "output_type": "stream",
     "text": [
      "[1, 2, 5, 9, 10, 12]\n"
     ]
    }
   ],
   "source": [
    "#Create a tuple of five numbers and convert it into a list.\n",
    "my_tuple = (1,2,5,9,10,12)\n",
    "my_list4=list(my_tuple)\n",
    "print(my_list4)"
   ]
  },
  {
   "cell_type": "markdown",
   "id": "cf572f6a",
   "metadata": {},
   "source": [
    "14.Find Maximum and Minimum in a Tuple"
   ]
  },
  {
   "cell_type": "code",
   "execution_count": 31,
   "id": "c97bea99",
   "metadata": {},
   "outputs": [
    {
     "name": "stdout",
     "output_type": "stream",
     "text": [
      "98\n",
      "1\n"
     ]
    }
   ],
   "source": [
    "Num=[1,2,3,4,5,6,7,8,98]\n",
    "type=sorted(Num,reverse=True)\n",
    "max_num=type[0]\n",
    "min_num=type[-1]\n",
    "print(max_num)\n",
    "print(min_num)"
   ]
  },
  {
   "cell_type": "markdown",
   "id": "7e53eff7",
   "metadata": {},
   "source": [
    "15.Reverse a Tuple"
   ]
  },
  {
   "cell_type": "code",
   "execution_count": 36,
   "id": "c3806fef",
   "metadata": {},
   "outputs": [
    {
     "name": "stdout",
     "output_type": "stream",
     "text": [
      "('Darsi', 'Python', 'Salom')\n"
     ]
    }
   ],
   "source": [
    "#Create a tuple of words and print it in reverse order.\n",
    "\n",
    "Words=['Salom','Python','Darsi']\n",
    "my_tuple=tuple(Words)\n",
    "reversed_tuple=tuple(reversed(my_tuple))\n",
    "print(reversed_tuple)"
   ]
  }
 ],
 "metadata": {
  "kernelspec": {
   "display_name": "Python 3",
   "language": "python",
   "name": "python3"
  },
  "language_info": {
   "codemirror_mode": {
    "name": "ipython",
    "version": 3
   },
   "file_extension": ".py",
   "mimetype": "text/x-python",
   "name": "python",
   "nbconvert_exporter": "python",
   "pygments_lexer": "ipython3",
   "version": "3.13.3"
  }
 },
 "nbformat": 4,
 "nbformat_minor": 5
}
