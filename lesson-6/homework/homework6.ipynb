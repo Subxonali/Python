{
 "cells": [
  {
   "cell_type": "markdown",
   "id": "0083b406",
   "metadata": {},
   "source": [
    "# Homeworks\n",
    "## 1. Modify String with Underscores\n",
    "## Given a string txt, insert an underscore (_) after every third character. If a character is a vowel or already has an underscore after it, shift the underscore placement to the next character. No underscore should be added at the end."
   ]
  },
  {
   "cell_type": "code",
   "execution_count": 2,
   "id": "9c7fdb93",
   "metadata": {},
   "outputs": [
    {
     "name": "stdout",
     "output_type": "stream",
     "text": [
      "hel_lo\n",
      "assa_lom\n",
      "abca_bca_bcde_abc_defa_bcde_fg\n"
     ]
    }
   ],
   "source": [
    "def insert_underscores(txt):\n",
    "    vowels = \"aeiou\"\n",
    "    i = 0\n",
    "    count = 0\n",
    "    result = \"\"\n",
    "\n",
    "    while i < len(txt):\n",
    "        result += txt[i]\n",
    "        count += 1\n",
    "\n",
    "        if count == 3:\n",
    "            # Check next character if exists\n",
    "            if i + 1 < len(txt) and (txt[i + 1] in vowels or txt[i + 1] == '_'):\n",
    "                if i + 2 < len(txt):\n",
    "                    result += txt[i + 1]\n",
    "                    result += \"_\"\n",
    "                    i += 1  # shift\n",
    "            else:\n",
    "                result += \"_\"\n",
    "            count = 0  # reset counter\n",
    "        i += 1\n",
    "\n",
    "    # Remove underscore if it is at the end\n",
    "    if result.endswith(\"_\"):\n",
    "        result = result[:-1]\n",
    "\n",
    "    return result\n",
    "\n",
    "\n",
    "print(insert_underscores(\"hello\"))              # hel_lo\n",
    "print(insert_underscores(\"assalom\"))            # ass_alom\n",
    "print(insert_underscores(\"abcabcabcdeabcdefabcdefg\"))  # abc_abc_abcd_abcd_abcdef\n",
    "\n"
   ]
  },
  {
   "cell_type": "markdown",
   "id": "cb034539",
   "metadata": {},
   "source": [
    "# 2. Integer Squares Exercise\n",
    "## Task\n",
    "## The provided code stub reads an integer, n, from STDIN. For all non-negative integers i where 0 <= i < n, print i^2."
   ]
  },
  {
   "cell_type": "code",
   "execution_count": 3,
   "id": "b672da80",
   "metadata": {},
   "outputs": [
    {
     "name": "stdout",
     "output_type": "stream",
     "text": [
      "0\n",
      "1\n",
      "4\n",
      "9\n",
      "16\n"
     ]
    }
   ],
   "source": [
    "n = int(input())\n",
    "\n",
    "for i in range(n):\n",
    "    print(i * i)\n"
   ]
  },
  {
   "cell_type": "markdown",
   "id": "89436f4d",
   "metadata": {},
   "source": [
    "# 3. Loop-Based Exercises\n",
    "## Exercise 1: Print first 10 natural numbers using a while loop"
   ]
  },
  {
   "cell_type": "code",
   "execution_count": 4,
   "id": "d8e3ddfe",
   "metadata": {},
   "outputs": [
    {
     "name": "stdout",
     "output_type": "stream",
     "text": [
      "1\n",
      "2\n",
      "3\n",
      "4\n",
      "5\n",
      "6\n",
      "7\n",
      "8\n",
      "9\n",
      "10\n"
     ]
    }
   ],
   "source": [
    "i = 1  # Boshlanish nuqtasi\n",
    "\n",
    "while i <= 10:\n",
    "    print(i)\n",
    "    i += 1  # i ni 1 taga oshiramiz\n"
   ]
  },
  {
   "cell_type": "markdown",
   "id": "e018e857",
   "metadata": {},
   "source": [
    "# Exercise 2: Print the following pattern\n",
    "1\n",
    "1 2\n",
    "1 2 3\n",
    "1 2 3 4\n",
    "1 2 3 4 5"
   ]
  },
  {
   "cell_type": "code",
   "execution_count": 5,
   "id": "e4d55b41",
   "metadata": {},
   "outputs": [
    {
     "name": "stdout",
     "output_type": "stream",
     "text": [
      "1 \n",
      "1 2 \n",
      "1 2 3 \n",
      "1 2 3 4 \n",
      "1 2 3 4 5 \n"
     ]
    }
   ],
   "source": [
    "for i in range(1, 6):  # 1 dan 5 gacha (shu qatlar soni)\n",
    "    for j in range(1, i + 1):  # Har bir qatorda 1 dan i gacha\n",
    "        print(j, end=\" \")\n",
    "    print()  # Har qatordan keyin yangi qatorga o‘tamiz\n"
   ]
  },
  {
   "cell_type": "code",
   "execution_count": 6,
   "id": "14cee8a0",
   "metadata": {},
   "outputs": [
    {
     "name": "stdout",
     "output_type": "stream",
     "text": [
      "1 \n",
      "1 2 \n",
      "1 2 3 \n",
      "1 2 3 4 \n",
      "1 2 3 4 5 \n"
     ]
    }
   ],
   "source": [
    "i = 1\n",
    "while i <= 5:\n",
    "    j = 1\n",
    "    while j <= i:\n",
    "        print(j, end=\" \")\n",
    "        j += 1\n",
    "    print()\n",
    "    i += 1\n"
   ]
  },
  {
   "cell_type": "markdown",
   "id": "cebcc1ba",
   "metadata": {},
   "source": [
    "Exercise 3: Calculate sum of all numbers from 1 to a given number\n",
    "Example:\n",
    "\n",
    "Enter number 10\n",
    "Sum is: 55"
   ]
  },
  {
   "cell_type": "code",
   "execution_count": 7,
   "id": "c53ac573",
   "metadata": {},
   "outputs": [
    {
     "name": "stdout",
     "output_type": "stream",
     "text": [
      "Sum is: 55\n"
     ]
    }
   ],
   "source": [
    "n = int(input(\"Enter number: \"))\n",
    "total = 0\n",
    "\n",
    "for i in range(1, n + 1):\n",
    "    total += i\n",
    "\n",
    "print(\"Sum is:\", total)\n"
   ]
  },
  {
   "cell_type": "markdown",
   "id": "e3d3f073",
   "metadata": {},
   "source": [
    "Exercise 5: Display numbers from a list using a loop\n",
    "Given:\n",
    "\n",
    "numbers = [12, 75, 150, 180, 145, 525, 50]\n",
    "Expected Output:\n",
    "\n",
    "75\n",
    "150\n",
    "145"
   ]
  },
  {
   "cell_type": "code",
   "execution_count": 9,
   "id": "f989e2ec",
   "metadata": {},
   "outputs": [
    {
     "name": "stdout",
     "output_type": "stream",
     "text": [
      "150\n",
      "180\n",
      "145\n"
     ]
    }
   ],
   "source": [
    "numbers = [12, 75, 150, 180, 145, 525, 50]\n",
    "\n",
    "for num in numbers:\n",
    "    if num > 500:\n",
    "        break\n",
    "    if num > 100 and num < 500:\n",
    "        print(num)\n"
   ]
  },
  {
   "cell_type": "markdown",
   "id": "36342d5b",
   "metadata": {},
   "source": [
    "Exercise 6: Count the total number of digits in a number\n",
    "Example:\n",
    "\n",
    "75869\n",
    "Output: 5"
   ]
  },
  {
   "cell_type": "code",
   "execution_count": 10,
   "id": "4feac475",
   "metadata": {},
   "outputs": [
    {
     "name": "stdout",
     "output_type": "stream",
     "text": [
      "5\n"
     ]
    }
   ],
   "source": [
    "number = input(\"Enter a number: \")\n",
    "# Remove possible negative sign\n",
    "number = number.lstrip('-')\n",
    "\n",
    "print(len(number))\n"
   ]
  },
  {
   "cell_type": "markdown",
   "id": "4ad685f0",
   "metadata": {},
   "source": [
    "Exercise 7: Print reverse number pattern\n",
    "5 4 3 2 1\n",
    "4 3 2 1\n",
    "3 2 1\n",
    "2 1\n",
    "1"
   ]
  },
  {
   "cell_type": "code",
   "execution_count": 11,
   "id": "62c9d3ab",
   "metadata": {},
   "outputs": [
    {
     "name": "stdout",
     "output_type": "stream",
     "text": [
      "5 4 3 2 1 \n",
      "4 3 2 1 \n",
      "3 2 1 \n",
      "2 1 \n",
      "1 \n"
     ]
    }
   ],
   "source": [
    "n = 5\n",
    "\n",
    "for i in range(n, 0, -1):\n",
    "    for j in range(i, 0, -1):\n",
    "        print(j, end=' ')\n",
    "    print()  # Newline after each row\n"
   ]
  },
  {
   "cell_type": "markdown",
   "id": "d12a4aa2",
   "metadata": {},
   "source": [
    "Exercise 8: Print list in reverse order using a loop\n",
    "Given:\n",
    "\n",
    "list1 = [10, 20, 30, 40, 50]\n",
    "Expected Output:\n",
    "\n",
    "50\n",
    "40\n",
    "30\n",
    "20\n",
    "10"
   ]
  },
  {
   "cell_type": "code",
   "execution_count": 12,
   "id": "0f347b86",
   "metadata": {},
   "outputs": [
    {
     "name": "stdout",
     "output_type": "stream",
     "text": [
      "50\n",
      "40\n",
      "30\n",
      "20\n",
      "10\n"
     ]
    }
   ],
   "source": [
    "list1 = [10, 20, 30, 40, 50]\n",
    "\n",
    "# Loop from the last index to the first\n",
    "for i in range(len(list1) - 1, -1, -1):\n",
    "    print(list1[i])\n"
   ]
  },
  {
   "cell_type": "markdown",
   "id": "a745ee13",
   "metadata": {},
   "source": [
    "Exercise 9: Display numbers from -10 to -1 using a for loop\n",
    "-10\n",
    "-9\n",
    "-8\n",
    "-7\n",
    "-6\n",
    "-5\n",
    "-4\n",
    "-3\n",
    "-2\n",
    "-1"
   ]
  },
  {
   "cell_type": "code",
   "execution_count": 13,
   "id": "904f59d7",
   "metadata": {},
   "outputs": [
    {
     "name": "stdout",
     "output_type": "stream",
     "text": [
      "-10\n",
      "-9\n",
      "-8\n",
      "-7\n",
      "-6\n",
      "-5\n",
      "-4\n",
      "-3\n",
      "-2\n",
      "-1\n"
     ]
    }
   ],
   "source": [
    "for i in range(-10, 0):\n",
    "    print(i)\n"
   ]
  },
  {
   "cell_type": "markdown",
   "id": "991a9bcf",
   "metadata": {},
   "source": [
    "Exercise 10: Display message “Done” after successful loop execution\n",
    "Example:\n",
    "\n",
    "0\n",
    "1\n",
    "2\n",
    "3\n",
    "4\n",
    "Done!"
   ]
  },
  {
   "cell_type": "code",
   "execution_count": 14,
   "id": "5cf1c602",
   "metadata": {},
   "outputs": [
    {
     "name": "stdout",
     "output_type": "stream",
     "text": [
      "0\n",
      "1\n",
      "2\n",
      "3\n",
      "4\n",
      "Done!\n"
     ]
    }
   ],
   "source": [
    "for i in range(5):\n",
    "    print(i)\n",
    "print(\"Done!\")\n"
   ]
  },
  {
   "cell_type": "markdown",
   "id": "d30d3ab1",
   "metadata": {},
   "source": [
    "Exercise 11: Print all prime numbers within a range\n",
    "Example:\n",
    "\n",
    "Prime numbers between 25 and 50:\n",
    "29\n",
    "31\n",
    "37\n",
    "41\n",
    "43\n",
    "47"
   ]
  },
  {
   "cell_type": "code",
   "execution_count": 15,
   "id": "be858a76",
   "metadata": {},
   "outputs": [
    {
     "name": "stdout",
     "output_type": "stream",
     "text": [
      "Prime numbers between 25 and 50:\n",
      "29\n",
      "31\n",
      "37\n",
      "41\n",
      "43\n",
      "47\n"
     ]
    }
   ],
   "source": [
    "def is_prime(num):\n",
    "    if num < 2:\n",
    "        return False\n",
    "    for i in range(2, int(num**0.5) + 1):\n",
    "        if num % i == 0:\n",
    "            return False\n",
    "    return True\n",
    "\n",
    "start = 25\n",
    "end = 50\n",
    "\n",
    "print(f\"Prime numbers between {start} and {end}:\")\n",
    "for number in range(start, end + 1):\n",
    "    if is_prime(number):\n",
    "        print(number)\n"
   ]
  },
  {
   "cell_type": "markdown",
   "id": "304c257b",
   "metadata": {},
   "source": [
    "Exercise 12: Display Fibonacci series up to 10 terms\n",
    "Example:\n",
    "\n",
    "Fibonacci sequence:\n",
    "0  1  1  2  3  5  8  13  21  34"
   ]
  },
  {
   "cell_type": "code",
   "execution_count": 16,
   "id": "d97412c5",
   "metadata": {},
   "outputs": [
    {
     "name": "stdout",
     "output_type": "stream",
     "text": [
      "Fibonacci sequence:\n",
      "0  1  1  2  3  5  8  13  21  34  "
     ]
    }
   ],
   "source": [
    "n_terms = 10\n",
    "a, b = 0, 1\n",
    "print(\"Fibonacci sequence:\")\n",
    "for _ in range(n_terms):\n",
    "    print(a, end='  ')\n",
    "    a, b = b, a + b\n"
   ]
  },
  {
   "cell_type": "markdown",
   "id": "0fcdeddb",
   "metadata": {},
   "source": [
    "Exercise 13: Find the factorial of a given number\n",
    "Example:\n",
    "\n",
    "5! = 120"
   ]
  },
  {
   "cell_type": "code",
   "execution_count": 17,
   "id": "27f49ec7",
   "metadata": {},
   "outputs": [
    {
     "name": "stdout",
     "output_type": "stream",
     "text": [
      "5! = 120\n"
     ]
    }
   ],
   "source": [
    "def factorial(n):\n",
    "    result = 1\n",
    "    for i in range(2, n + 1):\n",
    "        result *= i\n",
    "    return result\n",
    "\n",
    "number = 5\n",
    "print(f\"{number}! = {factorial(number)}\")\n"
   ]
  },
  {
   "cell_type": "markdown",
   "id": "b5db7a99",
   "metadata": {},
   "source": [
    "4. Return Uncommon Elements of Lists\n",
    "Task\n",
    "Return the elements that are not common between two lists. The order of elements does not matter.\n",
    "\n",
    "Examples\n",
    "Input: list1 = [1, 1, 2], list2 = [2, 3, 4]\n",
    "Output: [1, 1, 3, 4]\n",
    "\n",
    "Input: list1 = [1, 2, 3], list2 = [4, 5, 6]\n",
    "Output: [1, 2, 3, 4, 5, 6]\n",
    "\n",
    "Input: list1 = [1, 1, 2, 3, 4, 2], list2 = [1, 3, 4, 5]\n",
    "Output: [2, 2, 5]"
   ]
  },
  {
   "cell_type": "code",
   "execution_count": 18,
   "id": "937d6a6b",
   "metadata": {},
   "outputs": [
    {
     "name": "stdout",
     "output_type": "stream",
     "text": [
      "[1, 2, 2, 5]\n"
     ]
    }
   ],
   "source": [
    "list1 = [1, 1, 2, 3, 4, 2]\n",
    "list2 = [1, 3, 4, 5]\n",
    "\n",
    "result = []\n",
    "\n",
    "# Birinchi listdagi har bir element uchun:\n",
    "for item in list1:\n",
    "    # Agar u ikkinchi listda mavjud bo'lmasa yoki uning soni kam bo'lsa, natijaga qo'shamiz\n",
    "    if list2.count(item) < list1.count(item):\n",
    "        # Har safar takrorlanishlarni hisoblash uchun natijadagi sonini ham tekshiramiz\n",
    "        if result.count(item) < list1.count(item) - list2.count(item):\n",
    "            result.append(item)\n",
    "\n",
    "# Endi ikkinchi listdagi har bir element uchun:\n",
    "for item in list2:\n",
    "    if list1.count(item) < list2.count(item):\n",
    "        if result.count(item) < list2.count(item) - list1.count(item):\n",
    "            result.append(item)\n",
    "\n",
    "print(result)\n"
   ]
  }
 ],
 "metadata": {
  "kernelspec": {
   "display_name": "Python 3",
   "language": "python",
   "name": "python3"
  },
  "language_info": {
   "codemirror_mode": {
    "name": "ipython",
    "version": 3
   },
   "file_extension": ".py",
   "mimetype": "text/x-python",
   "name": "python",
   "nbconvert_exporter": "python",
   "pygments_lexer": "ipython3",
   "version": "3.13.3"
  }
 },
 "nbformat": 4,
 "nbformat_minor": 5
}
