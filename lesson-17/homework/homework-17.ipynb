{
 "cells": [
  {
   "cell_type": "markdown",
   "id": "864a6a23",
   "metadata": {},
   "source": [
    "# Homewrok1"
   ]
  },
  {
   "cell_type": "code",
   "execution_count": 1,
   "id": "bc89a8af",
   "metadata": {},
   "outputs": [
    {
     "name": "stdout",
     "output_type": "stream",
     "text": [
      "First 3 rows:\n",
      "   first_name  age           city\n",
      "0      Alice   25       New York\n",
      "1        Bob   30  San Francisco\n",
      "2    Charlie   35    Los Angeles\n",
      "\n",
      "Mean age: 32.5\n",
      "\n",
      "Name and City columns:\n",
      "   first_name           city\n",
      "0      Alice       New York\n",
      "1        Bob  San Francisco\n",
      "2    Charlie    Los Angeles\n",
      "3      David        Chicago\n",
      "\n",
      "Summary statistics:\n",
      "              age      salary\n",
      "count   4.000000     4.00000\n",
      "mean   32.500000  7272.75000\n",
      "std     6.454972  2113.16877\n",
      "min    25.000000  4826.00000\n",
      "25%    28.750000  6401.00000\n",
      "50%    32.500000  7147.00000\n",
      "75%    36.250000  8018.75000\n",
      "max    40.000000  9971.00000\n"
     ]
    }
   ],
   "source": [
    "import pandas as pd\n",
    "import numpy as np\n",
    "\n",
    "# Asosiy ma'lumotlar\n",
    "data = {\n",
    "    'First Name': ['Alice', 'Bob', 'Charlie', 'David'],\n",
    "    'Age': [25, 30, 35, 40],\n",
    "    'City': ['New York', 'San Francisco', 'Los Angeles', 'Chicago']\n",
    "}\n",
    "\n",
    "df = pd.DataFrame(data)\n",
    "\n",
    "# 1. Column nomlarini funksional tarzda o'zgartirish\n",
    "df.columns = [col.lower().replace(' ', '_') for col in df.columns]\n",
    "\n",
    "# 2. Birinchi 3 qatorni chiqarish\n",
    "print(\"First 3 rows:\\n\", df.head(3))\n",
    "\n",
    "# 3. O'rtacha yoshni topish\n",
    "mean_age = df['age'].mean()\n",
    "print(\"\\nMean age:\", mean_age)\n",
    "\n",
    "# 4. Faqat name (first_name) va city ustunlarini chiqarish\n",
    "print(\"\\nName and City columns:\\n\", df[['first_name', 'city']])\n",
    "\n",
    "# 5. Tasodifiy oylik (salary) ustunini qo'shish\n",
    "df['salary'] = np.random.randint(4000, 10000, size=len(df))\n",
    "\n",
    "# 6. Umumiy statistik ma'lumotlarni chiqarish\n",
    "print(\"\\nSummary statistics:\\n\", df.describe())\n"
   ]
  },
  {
   "cell_type": "markdown",
   "id": "561524b3",
   "metadata": {},
   "source": [
    "# Homework 2: Sales and Expenses Analysis"
   ]
  },
  {
   "cell_type": "code",
   "execution_count": 2,
   "id": "3751e439",
   "metadata": {},
   "outputs": [
    {
     "name": "stdout",
     "output_type": "stream",
     "text": [
      "Max Sales: 8000\n",
      "Max Expenses: 4500\n",
      "Min Sales: 5000\n",
      "Min Expenses: 3000\n",
      "Average Sales: 6625.0\n",
      "Average Expenses: 3750.0\n",
      "Max Sales: 8000\n",
      "Max Expenses: 4500\n",
      "Min Sales: 5000\n",
      "Min Expenses: 3000\n",
      "Average Sales: 6625.0\n",
      "Average Expenses: 3750.0\n"
     ]
    }
   ],
   "source": [
    "# DataFrame yaratish\n",
    "data2 = {\n",
    "    'Month': ['Jan', 'Feb', 'Mar', 'Apr'],\n",
    "    'Sales': [5000, 6000, 7500, 8000],\n",
    "    'Expenses': [3000, 3500, 4000, 4500]\n",
    "}\n",
    "\n",
    "sales_and_expenses = pd.DataFrame(data2)\n",
    "\n",
    "# Maksimumlar\n",
    "print(\"Max Sales:\", sales_and_expenses['Sales'].max())\n",
    "print(\"Max Expenses:\", sales_and_expenses['Expenses'].max())\n",
    "\n",
    "# Minimumlar\n",
    "print(\"Min Sales:\", sales_and_expenses['Sales'].min())\n",
    "print(\"Min Expenses:\", sales_and_expenses['Expenses'].min())\n",
    "\n",
    "# O'rtacha qiymatlar\n",
    "print(\"Average Sales:\", sales_and_expenses['Sales'].mean())\n",
    "print(\"Average Expenses:\", sales_and_expenses['Expenses'].mean())\n",
    "# DataFrame yaratish\n",
    "data2 = {\n",
    "    'Month': ['Jan', 'Feb', 'Mar', 'Apr'],\n",
    "    'Sales': [5000, 6000, 7500, 8000],\n",
    "    'Expenses': [3000, 3500, 4000, 4500]\n",
    "}\n",
    "\n",
    "sales_and_expenses = pd.DataFrame(data2)\n",
    "\n",
    "# Maksimumlar\n",
    "print(\"Max Sales:\", sales_and_expenses['Sales'].max())\n",
    "print(\"Max Expenses:\", sales_and_expenses['Expenses'].max())\n",
    "\n",
    "# Minimumlar\n",
    "print(\"Min Sales:\", sales_and_expenses['Sales'].min())\n",
    "print(\"Min Expenses:\", sales_and_expenses['Expenses'].min())\n",
    "\n",
    "# O'rtacha qiymatlar\n",
    "print(\"Average Sales:\", sales_and_expenses['Sales'].mean())\n",
    "print(\"Average Expenses:\", sales_and_expenses['Expenses'].mean())\n"
   ]
  },
  {
   "cell_type": "markdown",
   "id": "c8c138b3",
   "metadata": {},
   "source": [
    "# Homework 3: Monthly Category Expenses"
   ]
  },
  {
   "cell_type": "code",
   "execution_count": 3,
   "id": "b35b0ae3",
   "metadata": {},
   "outputs": [
    {
     "name": "stdout",
     "output_type": "stream",
     "text": [
      "\n",
      "Max expense for each category:\n",
      " Category\n",
      "Rent             1500\n",
      "Utilities         250\n",
      "Groceries         350\n",
      "Entertainment     180\n",
      "dtype: int64\n",
      "\n",
      "Min expense for each category:\n",
      " Category\n",
      "Rent             1200\n",
      "Utilities         200\n",
      "Groceries         300\n",
      "Entertainment     150\n",
      "dtype: int64\n",
      "\n",
      "Average expense for each category:\n",
      " Category\n",
      "Rent             1350.0\n",
      "Utilities         227.5\n",
      "Groceries         325.0\n",
      "Entertainment     165.0\n",
      "dtype: float64\n"
     ]
    }
   ],
   "source": [
    "# Ma'lumotlar\n",
    "data3 = {\n",
    "    'Category': ['Rent', 'Utilities', 'Groceries', 'Entertainment'],\n",
    "    'January': [1200, 200, 300, 150],\n",
    "    'February': [1300, 220, 320, 160],\n",
    "    'March': [1400, 240, 330, 170],\n",
    "    'April': [1500, 250, 350, 180]\n",
    "}\n",
    "\n",
    "expenses = pd.DataFrame(data3)\n",
    "\n",
    "# Category ustunini indexga aylantirish\n",
    "expenses = expenses.set_index('Category')\n",
    "\n",
    "# Har bir kategoriya bo‘yicha maksimal xarajat\n",
    "print(\"\\nMax expense for each category:\\n\", expenses.max(axis=1))\n",
    "\n",
    "# Minimum xarajatlar\n",
    "print(\"\\nMin expense for each category:\\n\", expenses.min(axis=1))\n",
    "\n",
    "# O'rtacha xarajatlar\n",
    "print(\"\\nAverage expense for each category:\\n\", expenses.mean(axis=1))\n"
   ]
  }
 ],
 "metadata": {
  "kernelspec": {
   "display_name": "Python 3",
   "language": "python",
   "name": "python3"
  },
  "language_info": {
   "codemirror_mode": {
    "name": "ipython",
    "version": 3
   },
   "file_extension": ".py",
   "mimetype": "text/x-python",
   "name": "python",
   "nbconvert_exporter": "python",
   "pygments_lexer": "ipython3",
   "version": "3.13.5"
  }
 },
 "nbformat": 4,
 "nbformat_minor": 5
}
