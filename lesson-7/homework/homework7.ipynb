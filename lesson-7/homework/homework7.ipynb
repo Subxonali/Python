{
 "cells": [
  {
   "cell_type": "code",
   "execution_count": 1,
   "id": "08bf0a8e",
   "metadata": {},
   "outputs": [
    {
     "name": "stdout",
     "output_type": "stream",
     "text": [
      "is_prime(4): False\n",
      "is_prime(7): True\n",
      "digit_sum(24): 6\n",
      "digit_sum(502): 7\n",
      "powers_of_two(10): [2, 4, 8]\n",
      "Squares 1 to 10: [1, 4, 9, 16, 25, 36, 49, 64, 81, 100]\n",
      "Prime numbers 1 to 20: [2, 3, 5, 7, 11, 13, 17, 19]\n"
     ]
    }
   ],
   "source": [
    "\n",
    "# Python Homework: Functions and Lambda Expressions\n",
    "\n",
    "# 1. is_prime(n) - check if a number is prime\n",
    "def is_prime(n):\n",
    "    if n <= 1:\n",
    "        return False\n",
    "    for i in range(2, int(n**0.5)+1):\n",
    "        if n % i == 0:\n",
    "            return False\n",
    "    return True\n",
    "\n",
    "# 2. digit_sum(k) - sum of digits of a number\n",
    "def digit_sum(k):\n",
    "    return sum(int(d) for d in str(k))\n",
    "\n",
    "# 3. powers_of_two(N) - powers of 2 not exceeding N\n",
    "def powers_of_two(N):\n",
    "    result = []\n",
    "    power = 1\n",
    "    while power * 2 <= N:\n",
    "        power *= 2\n",
    "        result.append(power)\n",
    "    return result\n",
    "\n",
    "# Lambda + map example: squares of numbers from 1 to 10\n",
    "squares = list(map(lambda x: x**2, range(1, 11)))\n",
    "\n",
    "# Lambda + filter example: primes in range 1 to 20\n",
    "primes = list(filter(lambda x: is_prime(x), range(1, 21)))\n",
    "\n",
    "# Example outputs\n",
    "if __name__ == \"__main__\":\n",
    "    print(\"is_prime(4):\", is_prime(4))       # False\n",
    "    print(\"is_prime(7):\", is_prime(7))       # True\n",
    "    print(\"digit_sum(24):\", digit_sum(24))   # 6\n",
    "    print(\"digit_sum(502):\", digit_sum(502)) # 7\n",
    "    print(\"powers_of_two(10):\", powers_of_two(10)) # [2, 4, 8]\n",
    "    print(\"Squares 1 to 10:\", squares)\n",
    "    print(\"Prime numbers 1 to 20:\", primes)"
   ]
  }
 ],
 "metadata": {
  "kernelspec": {
   "display_name": "Python 3",
   "language": "python",
   "name": "python3"
  },
  "language_info": {
   "codemirror_mode": {
    "name": "ipython",
    "version": 3
   },
   "file_extension": ".py",
   "mimetype": "text/x-python",
   "name": "python",
   "nbconvert_exporter": "python",
   "pygments_lexer": "ipython3",
   "version": "3.13.3"
  }
 },
 "nbformat": 4,
 "nbformat_minor": 5
}
