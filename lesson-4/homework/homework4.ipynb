{
 "cells": [
  {
   "cell_type": "markdown",
   "id": "bb0d9840",
   "metadata": {},
   "source": [
    "# Python Dictionary and Set Exercises\n",
    "## Dictionary Exercises\n",
    "## 1. Sort a Dictionary by Value\n",
    "\n",
    "### Write a Python script to sort (ascending and descending) a dictionary by value."
   ]
  },
  {
   "cell_type": "code",
   "execution_count": 5,
   "id": "7bc55363",
   "metadata": {},
   "outputs": [
    {
     "name": "stdout",
     "output_type": "stream",
     "text": [
      "Ascending (by value):\n",
      "{'banana': 1, 'mango': 2, 'apple': 3, 'orange': 5}\n",
      "\n",
      "Descending (by value):\n",
      "{'orange': 5, 'apple': 3, 'mango': 2, 'banana': 1}\n"
     ]
    }
   ],
   "source": [
    "my_dict = {\n",
    "    'apple': 3,\n",
    "    'banana': 1,\n",
    "    'orange': 5,\n",
    "    'mango': 2\n",
    "}\n",
    "\n",
    "\n",
    "ascending_sorted = dict(sorted(my_dict.items(), key=lambda item: item[1]))\n",
    "print(\"Ascending (by value):\")\n",
    "print(ascending_sorted)\n",
    "\n",
    "\n",
    "descending_sorted = dict(sorted(my_dict.items(), key=lambda item: item[1], reverse=True))\n",
    "print(\"\\nDescending (by value):\")\n",
    "print(descending_sorted)\n"
   ]
  },
  {
   "cell_type": "markdown",
   "id": "d66396bb",
   "metadata": {},
   "source": [
    "# 2. Add a Key to a Dictionary\n",
    "## Write a Python script to add a key to a dictionary."
   ]
  },
  {
   "cell_type": "code",
   "execution_count": 12,
   "id": "330a3266",
   "metadata": {},
   "outputs": [
    {
     "data": {
      "text/plain": [
       "{0: 10, 1: 20, 2: 30}"
      ]
     },
     "execution_count": 12,
     "metadata": {},
     "output_type": "execute_result"
    }
   ],
   "source": [
    "my_dict={0: 10, 1: 20}\n",
    "# First type\n",
    "my_dict.update({2:30})\n",
    "my_dict"
   ]
  },
  {
   "cell_type": "code",
   "execution_count": 13,
   "id": "b53e4c86",
   "metadata": {},
   "outputs": [
    {
     "data": {
      "text/plain": [
       "{0: 10, 1: 20, 2: 30}"
      ]
     },
     "execution_count": 13,
     "metadata": {},
     "output_type": "execute_result"
    }
   ],
   "source": [
    "my_dict={0: 10, 1: 20}\n",
    "# Second type\n",
    "\n",
    "my_dict[2]=30\n",
    "my_dict"
   ]
  },
  {
   "cell_type": "markdown",
   "id": "72d659fc",
   "metadata": {},
   "source": [
    "# 3. Concatenate Multiple Dictionaries\n",
    "## Write a Python script to concatenate the following dictionaries to create a new one.\n"
   ]
  },
  {
   "cell_type": "code",
   "execution_count": null,
   "id": "8e9c47bd",
   "metadata": {},
   "outputs": [
    {
     "data": {
      "text/plain": [
       "{1: 10, 2: 20, 3: 30, 4: 40, 5: 50, 6: 60}"
      ]
     },
     "execution_count": 16,
     "metadata": {},
     "output_type": "execute_result"
    }
   ],
   "source": [
    "# First type\n",
    "dic1 = {1: 10, 2: 20}\n",
    "dic2 = {3: 30, 4: 40}\n",
    "dic3 = {5: 50, 6: 60}\n",
    "\n",
    "merged_dict = {}\n",
    "merged_dict.update(dic1)\n",
    "merged_dict.update(dic2)\n",
    "merged_dict.update(dic3)\n",
    "\n",
    "merged_dict"
   ]
  },
  {
   "cell_type": "code",
   "execution_count": 17,
   "id": "bc83479c",
   "metadata": {},
   "outputs": [
    {
     "data": {
      "text/plain": [
       "{1: 10, 2: 20, 3: 30, 4: 40, 5: 50, 6: 60}"
      ]
     },
     "execution_count": 17,
     "metadata": {},
     "output_type": "execute_result"
    }
   ],
   "source": [
    "# Second type\n",
    "dic1 = {1: 10, 2: 20}\n",
    "dic2 = {3: 30, 4: 40}\n",
    "dic3 = {5: 50, 6: 60}\n",
    "\n",
    "merged_dict = {**dic1, **dic2, **dic3}\n",
    "merged_dict"
   ]
  },
  {
   "cell_type": "markdown",
   "id": "47e2d928",
   "metadata": {},
   "source": [
    "# 4. Generate a Dictionary with Squares\n",
    "## Write a Python script to generate and print a dictionary that contains a number (between 1 and n) in the form (x, x*x)"
   ]
  },
  {
   "cell_type": "code",
   "execution_count": 18,
   "id": "4c4e09b5",
   "metadata": {},
   "outputs": [
    {
     "name": "stdout",
     "output_type": "stream",
     "text": [
      "{1: 1, 2: 4, 3: 9, 4: 16, 5: 25}\n"
     ]
    }
   ],
   "source": [
    "n = int(input(\"n ni kiriting: \"))\n",
    "\n",
    "squares_dict = {}\n",
    "\n",
    "for x in range(1, n + 1):\n",
    "    squares_dict[x] = x * x\n",
    "\n",
    "print(squares_dict)\n"
   ]
  },
  {
   "cell_type": "markdown",
   "id": "1247bc46",
   "metadata": {},
   "source": [
    "# 5. Dictionary of Squares (1 to 15)\n",
    "## Write a Python script to print a dictionary where the keys are numbers between 1 and 15 (both included) and the values are the square of the keys."
   ]
  },
  {
   "cell_type": "code",
   "execution_count": 19,
   "id": "de998b17",
   "metadata": {},
   "outputs": [
    {
     "name": "stdout",
     "output_type": "stream",
     "text": [
      "{1: 1, 2: 4, 3: 9, 4: 16, 5: 25, 6: 36, 7: 49, 8: 64, 9: 81, 10: 100, 11: 121, 12: 144, 13: 169, 14: 196, 15: 225}\n"
     ]
    }
   ],
   "source": [
    "\n",
    "squares = {}\n",
    "\n",
    "for x in range(1, 16):  \n",
    "    squares[x] = x * x\n",
    "\n",
    "print(squares)\n"
   ]
  },
  {
   "cell_type": "markdown",
   "id": "1e665038",
   "metadata": {},
   "source": [
    "# Set Exercises\n",
    "## 1. Create a Set\n",
    "### Write a Python program to create a set."
   ]
  },
  {
   "cell_type": "code",
   "execution_count": 20,
   "id": "1d24bfa2",
   "metadata": {},
   "outputs": [
    {
     "data": {
      "text/plain": [
       "{1, 3, 5, 6, 7, 9}"
      ]
     },
     "execution_count": 20,
     "metadata": {},
     "output_type": "execute_result"
    }
   ],
   "source": [
    "my_set={1,3,5,6,9,7}\n",
    "my_set"
   ]
  },
  {
   "cell_type": "markdown",
   "id": "9a1ad0fa",
   "metadata": {},
   "source": [
    "# 2. Iterate Over a Set\n",
    "## Write a Python program to iterate over sets."
   ]
  },
  {
   "cell_type": "code",
   "execution_count": 21,
   "id": "97932c5a",
   "metadata": {},
   "outputs": [
    {
     "name": "stdout",
     "output_type": "stream",
     "text": [
      "1\n",
      "3\n",
      "5\n",
      "6\n",
      "7\n",
      "9\n"
     ]
    }
   ],
   "source": [
    "for item in my_set:\n",
    " print(item)"
   ]
  },
  {
   "cell_type": "markdown",
   "id": "92271d63",
   "metadata": {},
   "source": [
    "# 3. Add Member(s) to a Set\n",
    "## Write a Python program to add member(s) to a set."
   ]
  },
  {
   "cell_type": "code",
   "execution_count": 23,
   "id": "bc33f5d1",
   "metadata": {},
   "outputs": [
    {
     "data": {
      "text/plain": [
       "{1, 3, 5, 6, 7, 9, 120, 123, 125, 145}"
      ]
     },
     "execution_count": 23,
     "metadata": {},
     "output_type": "execute_result"
    }
   ],
   "source": [
    "my_set.add(123)\n",
    "my_set\n",
    "my_set.update([120,125,145])\n",
    "my_set"
   ]
  },
  {
   "cell_type": "markdown",
   "id": "5cafdeca",
   "metadata": {},
   "source": [
    "# 4. Remove Item(s) from a Set\n",
    "## Write a Python program to remove item(s) from a given set."
   ]
  },
  {
   "cell_type": "code",
   "execution_count": null,
   "id": "3ffef5c1",
   "metadata": {},
   "outputs": [
    {
     "data": {
      "text/plain": [
       "{1, 3, 5, 6, 7, 9, 125, 145}"
      ]
     },
     "execution_count": 28,
     "metadata": {},
     "output_type": "execute_result"
    }
   ],
   "source": [
    "my_set\n",
    "my_set.remove(120)\n",
    "my_set\n",
    "my_set.discard(140)\n",
    "my_set"
   ]
  },
  {
   "cell_type": "markdown",
   "id": "52c99ffc",
   "metadata": {},
   "source": [
    "# 5. Remove an Item if Present in the Set\n",
    "## Write a Python program to remove an item from a set if it is present in the set."
   ]
  },
  {
   "cell_type": "code",
   "execution_count": 30,
   "id": "6a224cee",
   "metadata": {},
   "outputs": [
    {
     "data": {
      "text/plain": [
       "{1, 3, 5, 6, 7, 9, 125}"
      ]
     },
     "execution_count": 30,
     "metadata": {},
     "output_type": "execute_result"
    }
   ],
   "source": [
    "my_set.discard(145)\n",
    "my_set"
   ]
  }
 ],
 "metadata": {
  "kernelspec": {
   "display_name": "Python 3",
   "language": "python",
   "name": "python3"
  },
  "language_info": {
   "codemirror_mode": {
    "name": "ipython",
    "version": 3
   },
   "file_extension": ".py",
   "mimetype": "text/x-python",
   "name": "python",
   "nbconvert_exporter": "python",
   "pygments_lexer": "ipython3",
   "version": "3.13.3"
  }
 },
 "nbformat": 4,
 "nbformat_minor": 5
}
